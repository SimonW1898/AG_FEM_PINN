{
 "cells": [
  {
   "cell_type": "markdown",
   "id": "c150e66e",
   "metadata": {},
   "source": [
    "# Solving the Simplest Case of the Helmholtz Equation\n",
    "\n",
    "We consider the time-dependent Helmholtz equation:\n",
    "\n",
    "$$\n",
    "i \\, \\mathrm{d}t \\, u = - \\Delta u\n",
    "$$\n",
    "\n",
    "with homogeneous Dirichlet boundary conditions:\n",
    "\n",
    "$$\n",
    "u(x,t) = 0, \\quad \\forall x \\in \\partial \\Omega,\\; t > 0\n",
    "$$\n",
    "\n",
    "and initial condition:\n",
    "\n",
    "$$\n",
    "u(x,0) = 1, \\quad \\forall x \\in \\Omega\n",
    "$$\n",
    "\n",
    "The exact solution is given by:\n",
    "\n",
    "$$\n",
    "u(x,t) = \\sin(\\pi x_1) \\sin(\\pi x_2) e^{-i 2\\pi^2 t}\n",
    "$$\n",
    "\n",
    "\n"
   ]
  },
  {
   "cell_type": "markdown",
   "id": "9209d5af",
   "metadata": {},
   "source": [
    "## Verification of the Exact Solution\n",
    "\n",
    "We solve the equation\n",
    "\n",
    "$$\n",
    "i\\, \\partial_t u = -\\Delta u,\n",
    "$$\n",
    "\n",
    "with the proposed exact solution\n",
    "\n",
    "$$\n",
    "u(x,t) = \\sin(\\pi x_1)\\sin(\\pi x_2)\\, e^{-i 2\\pi^2 t}.\n",
    "$$\n",
    "\n",
    "---\n",
    "\n",
    "### 1. Time Derivative\n",
    "\n",
    "We compute\n",
    "\n",
    "$$\n",
    "\\partial_t u(x,t) = \\sin(\\pi x_1)\\sin(\\pi x_2) \\cdot \\frac{d}{dt} \\left( e^{-i 2\\pi^2 t} \\right)\n",
    "= -i 2\\pi^2 \\sin(\\pi x_1)\\sin(\\pi x_2) \\, e^{-i 2\\pi^2 t}.\n",
    "$$\n",
    "\n",
    "Multiplying by \\( i \\):\n",
    "\n",
    "$$\n",
    "i\\, \\partial_t u = i \\cdot (-i 2\\pi^2) \\sin(\\pi x_1)\\sin(\\pi x_2) \\, e^{-i 2\\pi^2 t}\n",
    "= 2\\pi^2 \\sin(\\pi x_1)\\sin(\\pi x_2) \\, e^{-i 2\\pi^2 t}.\n",
    "$$\n",
    "\n",
    "---\n",
    "\n",
    "### 2. Laplacian\n",
    "\n",
    "We compute\n",
    "\n",
    "$$\n",
    "\\Delta u = \\frac{\\partial^2 u}{\\partial x_1^2} + \\frac{\\partial^2 u}{\\partial x_2^2}.\n",
    "$$\n",
    "\n",
    "Now\n",
    "\n",
    "$$\n",
    "\\frac{\\partial^2 u}{\\partial x_1^2} = -\\pi^2 \\sin(\\pi x_1) \\sin(\\pi x_2) \\, e^{-i 2\\pi^2 t}, \\quad\n",
    "\\frac{\\partial^2 u}{\\partial x_2^2} = -\\pi^2 \\sin(\\pi x_1) \\sin(\\pi x_2) \\, e^{-i 2\\pi^2 t}.\n",
    "$$\n",
    "\n",
    "Thus\n",
    "\n",
    "$$\n",
    "\\Delta u = -2\\pi^2 \\sin(\\pi x_1) \\sin(\\pi x_2) \\, e^{-i 2\\pi^2 t},\n",
    "$$\n",
    "\n",
    "and so\n",
    "\n",
    "$$\n",
    "- \\Delta u = 2\\pi^2 \\sin(\\pi x_1) \\sin(\\pi x_2) \\, e^{-i 2\\pi^2 t}.\n",
    "$$\n",
    "\n",
    "---\n",
    "\n",
    "### ✅ Conclusion\n",
    "\n",
    "We have:\n",
    "\n",
    "$$\n",
    "i\\, \\partial_t u = -\\Delta u,\n",
    "$$\n",
    "\n",
    "so the exact solution satisfies the Helmholtz equation.\n"
   ]
  },
  {
   "cell_type": "code",
   "execution_count": 11,
   "id": "4d8fa7ef",
   "metadata": {},
   "outputs": [],
   "source": [
    "\n",
    "\n",
    "# imports\n",
    "import numpy as np\n",
    "import dolfinx\n",
    "from dolfinx import fem, io\n",
    "from dolfinx.fem.petsc import LinearProblem\n",
    "import ufl\n",
    "from ufl import conj\n",
    "from petsc4py import PETSc\n",
    "from slepc4py import SLEPc\n",
    "from mpi4py import MPI\n"
   ]
  },
  {
   "cell_type": "markdown",
   "id": "087149dd",
   "metadata": {},
   "source": [
    "Model parameters + mesh and functionspace construction"
   ]
  },
  {
   "cell_type": "code",
   "execution_count": 11,
   "id": "cb52ab6e",
   "metadata": {},
   "outputs": [],
   "source": [
    "# create mesh\n",
    "n = 1000\n",
    "nx, ny = n, n\n",
    "mesh = dolfinx.mesh.create_unit_square(MPI.COMM_WORLD, nx, ny, dolfinx.mesh.CellType.triangle)\n",
    "\n",
    "\n",
    "\n",
    "# timestep parameters\n",
    "T = 1.0  # total time\n",
    "nt = 100  # number of time steps\n",
    "dt = T / nt  # time step size\n",
    "\n",
    "\n",
    "# create function space\n",
    "V = fem.functionspace(mesh, (\"Lagrange\", 1))"
   ]
  },
  {
   "cell_type": "markdown",
   "id": "e7e0f885",
   "metadata": {},
   "source": [
    "Analytical solution: \n",
    "\n",
    "$ u(x,t) = \\sin(\\pi x_1) \\sin(\\pi x_2) * \\exp(- i 2 \\pi^2 t) $\n",
    "\n",
    "watch out here is a factor of $i/(i+2 \\pi^2 dt)$ in the exact solution because when computing the error some constant value remains which is $2\\pi^2 dt$ but I'm not getting it seems still wrong\n"
   ]
  },
  {
   "cell_type": "code",
   "execution_count": 12,
   "id": "967c62b1",
   "metadata": {},
   "outputs": [],
   "source": [
    "# exact solution is \n",
    "u_exact = dolfinx.fem.Function(V, dtype=np.complex128)\n",
    "\n",
    "u_exact.interpolate(lambda x: np.sin(np.pi * x[0]) * np.sin(np.pi * x[1]) * \\\n",
    "                                np.exp(-1j * 2 * np.pi**2 * dt)* (1j/(1j+2 * np.pi**2*dt)))\n",
    "u_analytic = dolfinx.fem.Function(V, dtype=np.complex128)\n",
    "u_analytic.interpolate(lambda x: np.sin(np.pi * x[0]) * np.sin(np.pi * x[1]) * np.exp(-1j * 2 * np.pi**2 * dt))\n",
    "\n"
   ]
  },
  {
   "cell_type": "markdown",
   "id": "bd263b59",
   "metadata": {},
   "source": [
    "Assemble the System:"
   ]
  },
  {
   "cell_type": "code",
   "execution_count": 13,
   "id": "198042f4",
   "metadata": {},
   "outputs": [],
   "source": [
    "# test and trial functions\n",
    "u = ufl.TrialFunction(V)\n",
    "v = ufl.TestFunction(V)\n",
    "# rhs is initial condition f = u0 = sin(pi x_1) sin(pi x_2)\n",
    "f =  dolfinx.fem.Function(V, dtype=np.complex128)\n",
    "f.interpolate(lambda x: np.sin(np.pi * x[0]) * np.sin(np.pi * x[1]))\n",
    "\n",
    "# bilinear + linear form\n",
    "a = (1j / dt) * ufl.inner(u, v) * ufl.dx + ufl.inner(ufl.grad(u), ufl.grad(v)) * ufl.dx\n",
    "L = (1j / dt) * ufl.inner(f, v) * ufl.dx\n"
   ]
  },
  {
   "cell_type": "markdown",
   "id": "79f05464",
   "metadata": {},
   "source": [
    "Enforce the boundary conditions:"
   ]
  },
  {
   "cell_type": "code",
   "execution_count": 14,
   "id": "ba81ca02",
   "metadata": {},
   "outputs": [],
   "source": [
    "\n",
    "# define boundary condition\n",
    "mesh.topology.create_connectivity(mesh.topology.dim - 1, mesh.topology.dim)\n",
    "\n",
    "boundary_facets = dolfinx.mesh.exterior_facet_indices(mesh.topology)\n",
    "boundary_dofs = dolfinx.fem.locate_dofs_topological(V, mesh.topology.dim-1, boundary_facets)\n",
    "zero = fem.Constant(mesh, PETSc.ScalarType(0.0 + 0.0j))\n",
    "bc = fem.dirichletbc(zero, boundary_dofs, V)\n"
   ]
  },
  {
   "cell_type": "markdown",
   "id": "0bc7fd2e",
   "metadata": {},
   "source": [
    "Solve the problem:"
   ]
  },
  {
   "cell_type": "code",
   "execution_count": 15,
   "id": "fc46bda9",
   "metadata": {},
   "outputs": [],
   "source": [
    "\n",
    "# solve problem\n",
    "problem = LinearProblem(a, L, bcs=[bc])\n",
    "uh = problem.solve()\n"
   ]
  },
  {
   "cell_type": "markdown",
   "id": "470207ca",
   "metadata": {},
   "source": [
    "Post-process the solution/ error analysis:"
   ]
  },
  {
   "cell_type": "code",
   "execution_count": 16,
   "id": "6db3e3de",
   "metadata": {},
   "outputs": [
    {
     "name": "stdout",
     "output_type": "stream",
     "text": [
      "L2 norm of error: 0.096670634196\n",
      "L2 norm of error with analytic solution: 0.193262603592\n"
     ]
    }
   ],
   "source": [
    "# compute error\n",
    "error = uh - u_exact\n",
    "\n",
    "error_analytic = uh - u_analytic\n",
    "\n",
    "# compute L2 norm of error\n",
    "l2_error = np.sqrt(fem.assemble_scalar(fem.form(ufl.inner(error, error) * ufl.dx)))\n",
    "# take real part as imaginary should be 0 anyways\n",
    "l2_error = (l2_error.real)\n",
    "\n",
    "l2_error_analytic = np.sqrt(fem.assemble_scalar(fem.form(ufl.inner(error_analytic, error_analytic) * ufl.dx)))\n",
    "l2_error_analytic = (l2_error_analytic.real)\n",
    "\n",
    "print(f\"L2 norm of error: {l2_error:.12f}\")\n",
    "print(f\"L2 norm of error with analytic solution: {l2_error_analytic:.12f}\")"
   ]
  },
  {
   "cell_type": "markdown",
   "id": "b530e04e",
   "metadata": {},
   "source": [
    "Use Helmholtz Class from problem_1.py"
   ]
  },
  {
   "cell_type": "code",
   "execution_count": 8,
   "id": "ddce3f2d",
   "metadata": {},
   "outputs": [
    {
     "data": {
      "text/plain": [
       "<module 'problem_1' from '/workspaces/AG_FEM_PINN/problem_1.py'>"
      ]
     },
     "execution_count": 8,
     "metadata": {},
     "output_type": "execute_result"
    }
   ],
   "source": [
    "import simon.problem_1 as problem_1\n",
    "import importlib\n",
    "importlib.reload(problem_1)"
   ]
  },
  {
   "cell_type": "code",
   "execution_count": 9,
   "id": "5cef4771",
   "metadata": {},
   "outputs": [
    {
     "name": "stdout",
     "output_type": "stream",
     "text": [
      "Problem with h =  0.0625 , dt =  0.01 , l2 corrected =  0.09692531351953142 , l2 =  0.5086752898742148\n"
     ]
    }
   ],
   "source": [
    "from simon.problem_1 import HelmholtzProblem\n",
    "\n",
    "test = HelmholtzProblem(16,16,1, 100)"
   ]
  },
  {
   "cell_type": "code",
   "execution_count": null,
   "id": "c9eb8eac",
   "metadata": {},
   "outputs": [],
   "source": [
    "# create new object\n"
   ]
  }
 ],
 "metadata": {
  "kernelspec": {
   "display_name": "Python 3 (DOLFINx complex)",
   "language": "python",
   "name": "python3-complex"
  },
  "language_info": {
   "codemirror_mode": {
    "name": "ipython",
    "version": 3
   },
   "file_extension": ".py",
   "mimetype": "text/x-python",
   "name": "python",
   "nbconvert_exporter": "python",
   "pygments_lexer": "ipython3",
   "version": "3.12.3"
  }
 },
 "nbformat": 4,
 "nbformat_minor": 5
}
