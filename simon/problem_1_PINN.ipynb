{
 "cells": [
  {
   "cell_type": "markdown",
   "id": "1796e9d6",
   "metadata": {},
   "source": [
    "# Solve Problem 1: Helmholtz Equation without potential with PINN\n",
    "\n",
    "\n",
    "### Equation:\n",
    "$$\n",
    "i \\partial_t u(x,t) = \\Delta u(x,t) + V(x,t) u(x,t), \\quad x \\in \\Omega, \\ t > 0, \\\\\n",
    "\\quad \\partial_t u(x,0) = u_0(x), \\quad x \\in \\Omega, \\\\\n",
    "\\quad u(x,t) = g(x,t), \\quad x \\in \\Gamma_D, t>0, \\\\\n",
    "\\quad \\partial_n u(x,t) = h(x,t), \\quad x \\in \\Gamma_N, t> 0.\n",
    "$$\n",
    "where the potential $V(x,t)$ is zero, i.e., $V(x,t) = 0$."
   ]
  },
  {
   "cell_type": "markdown",
   "id": "c0c3ee2d",
   "metadata": {},
   "source": [
    "## Formulate the PINN loss function:\n",
    "Starting with the classical PINN approach, we define the residual function of the PDE as:\n",
    "$$\n",
    "R(x,t) = i \\partial_t u(x,t) - \\Delta u(x,t) - V(x,t) u(x,t), \\quad x \\in \\Omega, \\ t > 0.\n",
    "$$\n",
    "The goal is to minimize this residual, for that we add into the loss the residual loss, initial condition loss, and boundary condition loss:\n",
    "$$\n",
    "\\mathcal{L}(\\theta) = \\mathcal{L}_{\\text{PDE}}(\\theta) + \\mathcal{L}_{\\text{IC}}(\\theta) + \\mathcal{L}_{\\text{BC}}(\\theta),\n",
    "$$\n",
    "where\n",
    "$$\n",
    "\\mathcal{L}_{\\text{PDE}}(\\theta) = \\frac{1}{N_{\\text{PDE}}} \\sum_{i=1}^{N_{\\text{PDE}}} R(x_i, t_i; \\theta)^2,\n",
    "$$\n",
    "$$\n",
    "\\mathcal{L}_{\\text{IC}}(\\theta) = \\frac{1}{N_{\\text{IC}}} \\sum_{i=1}^{N_{\\text{IC}}} (u(x_i, 0; \\theta) - u_0(x_i))^2,\n",
    "$$\n",
    "$$\n",
    "\\mathcal{L}_{\\text{BC}}(\\theta) = \\frac{1}{N_{\\text{BC}}} \\sum_{i=1}^{N_{\\text{BC}}} (u(x_i, t_i; \\theta) - g(x_i, t_i))^2 + \\frac{1}{N_{\\text{BC}}} \\sum_{i=1}^{N_{\\text{BC}}} (\\partial_n u(x_i, t_i; \\theta) - h(x_i, t_i))^2.\n",
    "$$\n",
    "\n"
   ]
  },
  {
   "cell_type": "markdown",
   "id": "0bd0b95c",
   "metadata": {},
   "source": [
    "## Initial and Boundary Conditions:\n",
    "The initial condition is given by:\n",
    "$$\n",
    "u(x,0) = \\sin(\\pi x_1)\\sin(\\pi x_2), \\quad x \\in \\Omega,\n",
    "$$\n",
    "where $\\Omega = [0,1]^2$.\n",
    "The boundary conditions are homogeneous Dirichlet boundary conditions:\n",
    "$$\n",
    "u(x,t) = 0, \\quad \\forall x \\in \\partial \\Omega,\\; t > 0.\n",
    "$$"
   ]
  },
  {
   "cell_type": "markdown",
   "id": "22f8ad62",
   "metadata": {},
   "source": [
    "## Layout of the PINN:\n",
    "The handling of complex numbers in the PINN is done by separating the real and imaginary parts of the solution, meaning the output of the PINN has to be a vector of the form:\n",
    "$$\n",
    "u(x,t) = \\begin{pmatrix}\n",
    "\\text{Re}(u(x,t)) \\\\\n",
    "\\text{Im}(u(x,t))\n",
    "\\end{pmatrix}.\n",
    "$$\n",
    "\n",
    "The Input are then sampling points in the domain $\\Omega$ and time $t$, i.e., the input are then triples of the form $(x_1, x_2, t)$, where $x_1, x_2 \\in [0,1]$ and $t > 0$.\n",
    "\n"
   ]
  },
  {
   "cell_type": "markdown",
   "id": "b01eb2e2",
   "metadata": {},
   "source": [
    "## Define the PINN:"
   ]
  },
  {
   "cell_type": "markdown",
   "id": "32e301be",
   "metadata": {},
   "source": []
  }
 ],
 "metadata": {
  "language_info": {
   "name": "python"
  }
 },
 "nbformat": 4,
 "nbformat_minor": 5
}
