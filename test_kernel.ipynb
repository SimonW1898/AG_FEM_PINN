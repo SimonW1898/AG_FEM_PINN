{
 "cells": [
  {
   "cell_type": "code",
   "execution_count": 1,
   "id": "71eaa8b3",
   "metadata": {},
   "outputs": [
    {
     "name": "stdout",
     "output_type": "stream",
     "text": [
      "float64\n",
      "complex128\n"
     ]
    }
   ],
   "source": [
    "from mpi4py import MPI\n",
    "import dolfinx\n",
    "import numpy as np\n",
    "mesh = dolfinx.mesh.create_unit_square(MPI.COMM_WORLD, 10, 10)\n",
    "V = dolfinx.fem.functionspace(mesh, (\"Lagrange\", 1))\n",
    "u_r = dolfinx.fem.Function(V, dtype=np.float64) \n",
    "u_r.interpolate(lambda x: x[0])\n",
    "u_c = dolfinx.fem.Function(V, dtype=np.complex128)\n",
    "u_c.interpolate(lambda x:0.5*x[0]**2 + 1j*x[1]**2)\n",
    "print(u_r.x.array.dtype)\n",
    "print(u_c.x.array.dtype)\n",
    "\n"
   ]
  },
  {
   "cell_type": "code",
   "execution_count": 2,
   "id": "dca776f3",
   "metadata": {},
   "outputs": [
    {
     "name": "stdout",
     "output_type": "stream",
     "text": [
      "<class 'numpy.complex128'>\n"
     ]
    }
   ],
   "source": [
    "from petsc4py import PETSc \n",
    "import numpy as np\n",
    "from dolfinx.fem.petsc import assemble_vector\n",
    "print(PETSc.ScalarType)\n",
    "assert np.dtype(PETSc.ScalarType).kind == 'c'"
   ]
  },
  {
   "cell_type": "code",
   "execution_count": null,
   "id": "c8e730c0",
   "metadata": {},
   "outputs": [],
   "source": []
  }
 ],
 "metadata": {
  "kernelspec": {
   "display_name": "Python 3 (DOLFINx complex)",
   "language": "python",
   "name": "python3-complex"
  },
  "language_info": {
   "codemirror_mode": {
    "name": "ipython",
    "version": 3
   },
   "file_extension": ".py",
   "mimetype": "text/x-python",
   "name": "python",
   "nbconvert_exporter": "python",
   "pygments_lexer": "ipython3",
   "version": "3.12.3"
  }
 },
 "nbformat": 4,
 "nbformat_minor": 5
}
